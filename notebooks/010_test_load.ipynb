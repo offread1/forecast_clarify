{
 "cells": [
  {
   "cell_type": "markdown",
   "metadata": {},
   "source": [
    "## Test the operational part of the persistence model with an artificial initial value"
   ]
  },
  {
   "cell_type": "code",
   "execution_count": 2,
   "metadata": {},
   "outputs": [],
   "source": [
    "%load_ext autoreload\n",
    "%autoreload 2\n",
    "\n",
    "from forecast_clarify.main import *\n",
    "import forecast_clarify.clarify_persistence_package as cpp\n",
    "from forecast_clarify.config import *\n",
    "import os"
   ]
  },
  {
   "cell_type": "code",
   "execution_count": 3,
   "metadata": {},
   "outputs": [],
   "source": [
    "ds = xr.open_dataset(os.path.join(dirs['param_files'],'t3m_trend_nk800_2006-2022_ff.nc'))"
   ]
  },
  {
   "cell_type": "code",
   "execution_count": 4,
   "metadata": {},
   "outputs": [],
   "source": [
    "# create some artifical initial values:\n",
    "init_value = xr.DataArray(\n",
    "    17.2*np.ones(len(ds.location)),\n",
    "    dims = {'location':len(ds.location)},\n",
    "    coords = {'location':(('location',),ds.location.values)}\n",
    ")\n",
    "init_time = np.datetime64('2022-10-03')\n",
    "station_name = 'Hågardsneset'"
   ]
  },
  {
   "cell_type": "code",
   "execution_count": 5,
   "metadata": {},
   "outputs": [
    {
     "name": "stdout",
     "output_type": "stream",
     "text": [
      "22095\n"
     ]
    }
   ],
   "source": [
    "stat_id = cpp.find_station_in_bw(station_name)[0]\n",
    "print(stat_id)"
   ]
  },
  {
   "cell_type": "code",
   "execution_count": 6,
   "metadata": {},
   "outputs": [],
   "source": [
    "abs_temp_fc = cpp.make_persistence_forecast(init_value,init_time,station_id=stat_id)"
   ]
  },
  {
   "cell_type": "code",
   "execution_count": 8,
   "metadata": {},
   "outputs": [
    {
     "data": {
      "text/html": [
       "<div>\n",
       "<style scoped>\n",
       "    .dataframe tbody tr th:only-of-type {\n",
       "        vertical-align: middle;\n",
       "    }\n",
       "\n",
       "    .dataframe tbody tr th {\n",
       "        vertical-align: top;\n",
       "    }\n",
       "\n",
       "    .dataframe thead th {\n",
       "        text-align: right;\n",
       "    }\n",
       "</style>\n",
       "<table border=\"1\" class=\"dataframe\">\n",
       "  <thead>\n",
       "    <tr style=\"text-align: right;\">\n",
       "      <th></th>\n",
       "      <th>depth</th>\n",
       "      <th>location</th>\n",
       "      <th>loc_name</th>\n",
       "      <th>lon</th>\n",
       "      <th>lat</th>\n",
       "      <th>time</th>\n",
       "      <th>time_doy</th>\n",
       "      <th>temperature</th>\n",
       "    </tr>\n",
       "    <tr>\n",
       "      <th>lags</th>\n",
       "      <th></th>\n",
       "      <th></th>\n",
       "      <th></th>\n",
       "      <th></th>\n",
       "      <th></th>\n",
       "      <th></th>\n",
       "      <th></th>\n",
       "      <th></th>\n",
       "    </tr>\n",
       "  </thead>\n",
       "  <tbody>\n",
       "    <tr>\n",
       "      <th>0</th>\n",
       "      <td>3</td>\n",
       "      <td>22095</td>\n",
       "      <td>Hågardsneset</td>\n",
       "      <td>5.929967</td>\n",
       "      <td>59.9844</td>\n",
       "      <td>2022-10-03</td>\n",
       "      <td>276</td>\n",
       "      <td>17.200000</td>\n",
       "    </tr>\n",
       "    <tr>\n",
       "      <th>1</th>\n",
       "      <td>3</td>\n",
       "      <td>22095</td>\n",
       "      <td>Hågardsneset</td>\n",
       "      <td>5.929967</td>\n",
       "      <td>59.9844</td>\n",
       "      <td>2022-10-10</td>\n",
       "      <td>283</td>\n",
       "      <td>15.792673</td>\n",
       "    </tr>\n",
       "    <tr>\n",
       "      <th>2</th>\n",
       "      <td>3</td>\n",
       "      <td>22095</td>\n",
       "      <td>Hågardsneset</td>\n",
       "      <td>5.929967</td>\n",
       "      <td>59.9844</td>\n",
       "      <td>2022-10-17</td>\n",
       "      <td>290</td>\n",
       "      <td>14.413394</td>\n",
       "    </tr>\n",
       "    <tr>\n",
       "      <th>3</th>\n",
       "      <td>3</td>\n",
       "      <td>22095</td>\n",
       "      <td>Hågardsneset</td>\n",
       "      <td>5.929967</td>\n",
       "      <td>59.9844</td>\n",
       "      <td>2022-10-24</td>\n",
       "      <td>297</td>\n",
       "      <td>13.444202</td>\n",
       "    </tr>\n",
       "    <tr>\n",
       "      <th>4</th>\n",
       "      <td>3</td>\n",
       "      <td>22095</td>\n",
       "      <td>Hågardsneset</td>\n",
       "      <td>5.929967</td>\n",
       "      <td>59.9844</td>\n",
       "      <td>2022-10-31</td>\n",
       "      <td>304</td>\n",
       "      <td>12.610685</td>\n",
       "    </tr>\n",
       "    <tr>\n",
       "      <th>5</th>\n",
       "      <td>3</td>\n",
       "      <td>22095</td>\n",
       "      <td>Hågardsneset</td>\n",
       "      <td>5.929967</td>\n",
       "      <td>59.9844</td>\n",
       "      <td>2022-11-07</td>\n",
       "      <td>311</td>\n",
       "      <td>11.845858</td>\n",
       "    </tr>\n",
       "  </tbody>\n",
       "</table>\n",
       "</div>"
      ],
      "text/plain": [
       "      depth  location      loc_name       lon      lat       time  time_doy  \\\n",
       "lags                                                                          \n",
       "0         3     22095  Hågardsneset  5.929967  59.9844 2022-10-03       276   \n",
       "1         3     22095  Hågardsneset  5.929967  59.9844 2022-10-10       283   \n",
       "2         3     22095  Hågardsneset  5.929967  59.9844 2022-10-17       290   \n",
       "3         3     22095  Hågardsneset  5.929967  59.9844 2022-10-24       297   \n",
       "4         3     22095  Hågardsneset  5.929967  59.9844 2022-10-31       304   \n",
       "5         3     22095  Hågardsneset  5.929967  59.9844 2022-11-07       311   \n",
       "\n",
       "      temperature  \n",
       "lags               \n",
       "0       17.200000  \n",
       "1       15.792673  \n",
       "2       14.413394  \n",
       "3       13.444202  \n",
       "4       12.610685  \n",
       "5       11.845858  "
      ]
     },
     "execution_count": 8,
     "metadata": {},
     "output_type": "execute_result"
    }
   ],
   "source": [
    "abs_temp_fc"
   ]
  }
 ],
 "metadata": {
  "interpreter": {
   "hash": "8f95b5161e34ad54fd5f0ad10ab5ab6742d4d69a45be909cf562769dc06d7342"
  },
  "kernelspec": {
   "display_name": "Python 3.10.5 ('forecast_clarify')",
   "language": "python",
   "name": "python3"
  },
  "language_info": {
   "codemirror_mode": {
    "name": "ipython",
    "version": 3
   },
   "file_extension": ".py",
   "mimetype": "text/x-python",
   "name": "python",
   "nbconvert_exporter": "python",
   "pygments_lexer": "ipython3",
   "version": "3.10.5"
  },
  "orig_nbformat": 4
 },
 "nbformat": 4,
 "nbformat_minor": 2
}
