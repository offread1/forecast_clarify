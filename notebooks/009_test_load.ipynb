{
 "cells": [
  {
   "cell_type": "code",
   "execution_count": null,
   "metadata": {},
   "outputs": [],
   "source": []
  },
  {
   "cell_type": "code",
   "execution_count": 1,
   "metadata": {},
   "outputs": [],
   "source": [
    "%load_ext autoreload\n",
    "%autoreload 2\n",
    "\n",
    "from forecast_clarify.main import *\n",
    "import forecast_clarify.clarify_persistence_package as cpp\n",
    "from forecast_clarify.config import *\n",
    "import os"
   ]
  },
  {
   "cell_type": "code",
   "execution_count": 2,
   "metadata": {},
   "outputs": [],
   "source": [
    "ds = xr.open_dataset(os.path.join(dirs['param_files'],'t3m_trend_nk800_2006-2022_ff.nc'))"
   ]
  },
  {
   "cell_type": "code",
   "execution_count": 3,
   "metadata": {},
   "outputs": [],
   "source": [
    "# create some artifical initial values:\n",
    "init_value = xr.DataArray(\n",
    "    17.2*np.ones(len(ds.location)),\n",
    "    dims = {'location':len(ds.location)},\n",
    "    coords = {'location':(('location',),ds.location.values)}\n",
    ")\n",
    "init_time = np.datetime64('2022-10-03')\n",
    "station_name = 'Hågardsneset'"
   ]
  },
  {
   "cell_type": "code",
   "execution_count": 4,
   "metadata": {},
   "outputs": [],
   "source": [
    "stat_id = cpp.find_station_in_bw(station_name)[0]\n",
    "print(stat_id)"
   ]
  },
  {
   "cell_type": "code",
   "execution_count": 6,
   "metadata": {},
   "outputs": [],
   "source": [
    "abs_temp_fc = cpp.make_persistence_forecast(init_value,init_time,station_id=stat_id)"
   ]
  }
 ],
 "metadata": {
  "interpreter": {
   "hash": "8f95b5161e34ad54fd5f0ad10ab5ab6742d4d69a45be909cf562769dc06d7342"
  },
  "kernelspec": {
   "display_name": "Python 3.10.5 ('forecast_clarify')",
   "language": "python",
   "name": "python3"
  },
  "language_info": {
   "codemirror_mode": {
    "name": "ipython",
    "version": 3
   },
   "file_extension": ".py",
   "mimetype": "text/x-python",
   "name": "python",
   "nbconvert_exporter": "python",
   "pygments_lexer": "ipython3",
   "version": "3.10.5"
  },
  "orig_nbformat": 4
 },
 "nbformat": 4,
 "nbformat_minor": 2
}
